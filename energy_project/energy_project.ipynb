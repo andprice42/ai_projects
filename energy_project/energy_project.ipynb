{
 "cells": [
  {
   "cell_type": "markdown",
   "metadata": {},
   "source": [
    "US Energy Consumption and Generation Project"
   ]
  },
  {
   "cell_type": "code",
   "execution_count": 4,
   "metadata": {},
   "outputs": [
    {
     "name": "stdout",
     "output_type": "stream",
     "text": [
      "<class 'dict'>\n",
      "{'response': {'id': 'retail-sales', 'name': 'Electricity Sales to Ultimate Customers', 'description': 'Electricity sales to ultimate customer by state and sector (number of customers, average price, revenue, and megawatthours of sales).  \\r\\n    Sources: Forms EIA-826, EIA-861, EIA-861M', 'frequency': [{'id': 'monthly', 'description': 'One data point for each month.', 'query': 'M', 'format': 'YYYY-MM'}, {'id': 'quarterly', 'description': 'One data point every 3 months.', 'query': 'Q', 'format': 'YYYY-\"Q\"Q'}, {'id': 'annual', 'description': 'One data point for each calendar year.', 'query': 'A', 'format': 'YYYY'}], 'facets': [{'id': 'stateid', 'description': 'State / Census Region'}, {'id': 'sectorid', 'description': 'Sector'}], 'data': {'revenue': {'alias': 'Revenue from Sales to Ultimate Customers', 'units': 'million dollars'}, 'sales': {'alias': 'Megawatthours Sold to Utlimate Customers', 'units': 'million kilowatthours'}, 'price': {'alias': 'Average Price of Electricity to Utlimate Customers', 'units': 'cents per kilowatthour'}, 'customers': {'alias': 'Number of Ultimate Customers', 'units': 'number of customers'}}, 'startPeriod': '2001-01', 'endPeriod': '2024-05', 'defaultDateFormat': 'YYYY-MM', 'defaultFrequency': 'monthly'}, 'request': {'command': '/v2/electricity/retail-sales/', 'params': {'api_key': '4XZYF5tqjFWmUYscSfOb8Czc0fPWz5gdZ0N47mEm'}}, 'apiVersion': '2.1.7', 'ExcelAddInVersion': '2.1.0'}\n"
     ]
    }
   ],
   "source": [
    "import requests\n",
    "import os\n",
    "# Your EIA API key\n",
    "\n",
    "# The endpoint and series ID you want to access\n",
    "url = 'https://api.eia.gov/v2/electricity/retail-sales?api_key={}'.format(api_key)\n",
    "\n",
    "# Make the request to the API\n",
    "response = requests.get(url)\n",
    "\n",
    "# Check if the request was successful\n",
    "if response.status_code == 200:\n",
    "    data = response.json()\n",
    "    print(type(data))\n",
    "    # Accessing the data\n",
    "    print(data)\n",
    "else:\n",
    "    print(\"Failed to retrieve data:\", response.status_code, response.text)"
   ]
  }
 ],
 "metadata": {
  "kernelspec": {
   "display_name": "Python 3",
   "language": "python",
   "name": "python3"
  },
  "language_info": {
   "codemirror_mode": {
    "name": "ipython",
    "version": 3
   },
   "file_extension": ".py",
   "mimetype": "text/x-python",
   "name": "python",
   "nbconvert_exporter": "python",
   "pygments_lexer": "ipython3",
   "version": "3.11.9"
  }
 },
 "nbformat": 4,
 "nbformat_minor": 2
}
