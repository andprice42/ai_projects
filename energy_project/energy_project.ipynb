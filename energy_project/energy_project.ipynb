{
 "cells": [
  {
   "cell_type": "markdown",
   "metadata": {},
   "source": [
    "US Energy Consumption and Generation Project"
   ]
  },
  {
   "cell_type": "code",
   "execution_count": 4,
   "metadata": {},
   "outputs": [
    {
     "name": "stdout",
     "output_type": "stream",
     "text": [
      "Failed to retrieve data: 403 {\n",
      "  \"error\": {\n",
      "    \"code\": \"API_KEY_INVALID\",\n",
      "    \"message\": \"An invalid api_key was supplied. Get one at https://api.eia.gov:443\"\n",
      "  }\n",
      "}\n"
     ]
    }
   ],
   "source": [
    "import requests\n",
    "import os\n",
    "# Your EIA API key\n",
    "api_key = '{}'.format(os.getenv('EN_API_KEY'))\n",
    "\n",
    "# The endpoint and series ID you want to access\n",
    "series_id = 'TOTAL.TETCBUS.M'  # Example series ID for Total Energy Consumption\n",
    "url = f'https://api.eia.gov/series/?api_key={api_key}&series_id={series_id}'\n",
    "\n",
    "# Make the request to the API\n",
    "response = requests.get(url)\n",
    "\n",
    "# Check if the request was successful\n",
    "if response.status_code == 200:\n",
    "    data = response.json()\n",
    "    # Accessing the data\n",
    "    series_data = data['series'][0]['data']\n",
    "    # Print the first few data points\n",
    "    for point in series_data[:5]:\n",
    "        print(f\"Date: {point[0]}, Value: {point[1]}\")\n",
    "else:\n",
    "    print(\"Failed to retrieve data:\", response.status_code, response.text)"
   ]
  }
 ],
 "metadata": {
  "kernelspec": {
   "display_name": "Python 3",
   "language": "python",
   "name": "python3"
  },
  "language_info": {
   "codemirror_mode": {
    "name": "ipython",
    "version": 3
   },
   "file_extension": ".py",
   "mimetype": "text/x-python",
   "name": "python",
   "nbconvert_exporter": "python",
   "pygments_lexer": "ipython3",
   "version": "3.11.9"
  }
 },
 "nbformat": 4,
 "nbformat_minor": 2
}
